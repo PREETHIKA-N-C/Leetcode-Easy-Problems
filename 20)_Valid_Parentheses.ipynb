{
  "nbformat": 4,
  "nbformat_minor": 0,
  "metadata": {
    "colab": {
      "provenance": []
    },
    "kernelspec": {
      "name": "python3",
      "display_name": "Python 3"
    },
    "language_info": {
      "name": "python"
    }
  },
  "cells": [
    {
      "cell_type": "markdown",
      "source": [
        "# **20. Valid Parentheses**\n",
        "\n",
        "\n",
        "Given a string s containing just the characters '(', ')', '{', '}', '[' and ']', determine if the input string is valid.\n",
        "\n",
        "An input string is valid if:\n",
        "\n",
        "Open brackets must be closed by the same type of brackets.\n",
        "Open brackets must be closed in the correct order.\n",
        "Every close bracket has a corresponding open bracket of the same type.\n",
        "\n",
        "\n",
        "Example 1:\n",
        "\n",
        "Input: s = \"()\"\n",
        "Output: true\n",
        "\n",
        "Example 2:\n",
        "\n",
        "Input: s = \"()[]{}\"\n",
        "Output: true\n",
        "\n",
        "Example 3:\n",
        "\n",
        "Input: s = \"(]\"\n",
        "Output: false\n",
        "\n",
        "\n",
        "Constraints:\n",
        "\n",
        "1 <= s.length <= 104\n",
        "\n",
        "s consists of parentheses only '()[]{}'."
      ],
      "metadata": {
        "id": "ruiwrwMTgyFN"
      }
    },
    {
      "cell_type": "code",
      "source": [
        "class Solution:\n",
        "    def isValid(self, s: str) -> bool:\n",
        "        # Initialize an empty stack to keep track of opening brackets\n",
        "        stack = []\n",
        "        # Define a mapping of closing brackets to their corresponding opening brackets\n",
        "        hashMap = {\")\" : \"(\", \"}\" : \"{\", \"]\" : \"[\"}\n",
        "\n",
        "        for ele in s:\n",
        "            # If the current element is a closing bracket\n",
        "            if ele in hashMap:\n",
        "                # If the stack is not empty and the top of the stack matches the corresponding opening bracket, pop from the stack\n",
        "                if stack and stack[-1] == hashMap[ele]:\n",
        "                    stack.pop()\n",
        "                else:\n",
        "                    return False # If the stack is empty or the brackets are not properly matched\n",
        "            else:\n",
        "                stack.append(ele)  # If the current element is an opening bracket, push it onto the stack\n",
        "\n",
        "        return True if not stack else False   # If the stack is empty, all brackets are properly matched; otherwise, return False"
      ],
      "metadata": {
        "id": "DxyyhTwVgz-Q"
      },
      "execution_count": 1,
      "outputs": []
    },
    {
      "cell_type": "code",
      "source": [
        "solution_instance = Solution()\n",
        "Valid = solution_instance.isValid(str(input(\"Enter the Paranthesis: \")))\n",
        "print(Valid)"
      ],
      "metadata": {
        "colab": {
          "base_uri": "https://localhost:8080/"
        },
        "id": "023gMK91p7T6",
        "outputId": "42be83d8-904b-48d8-9128-8ac325666c78"
      },
      "execution_count": 4,
      "outputs": [
        {
          "output_type": "stream",
          "name": "stdout",
          "text": [
            "Enter the Paranthesis: ()[]{}\n",
            "True\n"
          ]
        }
      ]
    },
    {
      "cell_type": "markdown",
      "source": [
        "# **Solution Explanation**\n",
        "\n",
        "Now, let's apply this function with s = \"()[]{}\":\n",
        "\n",
        "Iterating through each character in s:\n",
        "\n",
        "For (: Push onto the stack.\n",
        "Stack: [\"(\"]\n",
        "\n",
        "For ): Pop from the stack because it matches the top of the stack.\n",
        "Stack: []\n",
        "\n",
        "For [: Push onto the stack.\n",
        "Stack: [\"[\"]\n",
        "\n",
        "For ]: Pop from the stack because it matches the top of the stack.\n",
        "Stack: []\n",
        "\n",
        "For {: Push onto the stack.\n",
        "Stack: [\"{\"]\n",
        "\n",
        "For }: Pop from the stack because it matches the top of the stack.\n",
        "Stack: []\n",
        "\n",
        "At the end of the loop, the stack is empty, indicating that all brackets are properly matched.\n",
        "\n",
        "The function returns True.\n",
        "\n",
        "So, for the input s = \"()[]{}\", the result is True since all brackets are correctly matched.\n",
        "\n",
        "\n",
        "\n",
        "\n"
      ],
      "metadata": {
        "id": "4lbYnZqQqiJC"
      }
    },
    {
      "cell_type": "markdown",
      "source": [
        "Test Cases Satisfied.\n",
        "\n",
        "Now you can try it on your own with different methods and submit it in the leetcode : )\n",
        "\n",
        "Happy Coding!!"
      ],
      "metadata": {
        "id": "be4AIiyyrQnM"
      }
    }
  ]
}