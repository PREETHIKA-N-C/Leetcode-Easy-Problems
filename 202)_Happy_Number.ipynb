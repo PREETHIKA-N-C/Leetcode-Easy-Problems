{
  "nbformat": 4,
  "nbformat_minor": 0,
  "metadata": {
    "colab": {
      "provenance": []
    },
    "kernelspec": {
      "name": "python3",
      "display_name": "Python 3"
    },
    "language_info": {
      "name": "python"
    }
  },
  "cells": [
    {
      "cell_type": "markdown",
      "source": [
        "# **202. Happy Number**\n",
        "\n",
        "Write an algorithm to determine if a number n is happy.\n",
        "\n",
        "A happy number is a number defined by the following process:\n",
        "\n",
        "Starting with any positive integer, replace the number by the sum of the squares of its digits.\n",
        "Repeat the process until the number equals 1 (where it will stay), or it loops endlessly in a cycle which does not include 1.\n",
        "Those numbers for which this process ends in 1 are happy.\n",
        "Return true if n is a happy number, and false if not.\n",
        "\n",
        "\n",
        "\n",
        "Example 1:\n",
        "\n",
        "Input: n = 19\n",
        "\n",
        "Output: true\n",
        "\n",
        "Explanation:\n",
        "\n",
        "12 + 92 = 82\n",
        "\n",
        "82 + 22 = 68\n",
        "\n",
        "62 + 82 = 100\n",
        "\n",
        "12 + 02 + 02 = 1\n",
        "\n",
        "\n",
        "Example 2:\n",
        "\n",
        "Input: n = 2\n",
        "\n",
        "Output: false\n",
        "\n",
        "\n",
        "Constraints:\n",
        "\n",
        "1 <= n <= 231 - 1"
      ],
      "metadata": {
        "id": "I3HGNPev_rD2"
      }
    },
    {
      "cell_type": "code",
      "source": [
        "class Solution:\n",
        "    def isHappy(self, n: int) -> bool:\n",
        "        # Initialize a list to store numbers encountered during the process\n",
        "        lst = []\n",
        "\n",
        "        # Add the initial number to the list\n",
        "        lst.append(n)\n",
        "\n",
        "        # Continue the process until the number equals 1 or a cycle is detected\n",
        "        while n != 1:\n",
        "            # Initialize a variable to store the sum of squares\n",
        "            sos = 0\n",
        "\n",
        "            # Calculate the sum of squares of digits\n",
        "            for i in str(n):\n",
        "                sos = sos + int(i) ** 2\n",
        "\n",
        "            # Check if the sum of squares is already in the list\n",
        "            if sos not in lst:\n",
        "                # If not, add it to the list\n",
        "                lst.append(sos)\n",
        "            else:\n",
        "                # If it is in the list, return False (cycle detected)\n",
        "                return False\n",
        "\n",
        "            # Update the current number to the sum of squares\n",
        "            n = sos\n",
        "\n",
        "        # If the process reaches 1, return True (happy number)\n",
        "        return True"
      ],
      "metadata": {
        "id": "8C95Ry7uAE9e"
      },
      "execution_count": 1,
      "outputs": []
    },
    {
      "cell_type": "code",
      "source": [
        "solution_instance = Solution()\n",
        "\n",
        "#Example 1:\n",
        "n = 19\n",
        "Example1 = solution_instance.isHappy(n)\n",
        "print(Example1)\n",
        "\n",
        "#Example 2:\n",
        "n = 2\n",
        "Example2 = solution_instance.isHappy(n)\n",
        "print(Example2)"
      ],
      "metadata": {
        "colab": {
          "base_uri": "https://localhost:8080/"
        },
        "id": "Czb1hnBMAuEI",
        "outputId": "04d75299-cf64-4fe1-92fd-76ffc4870b9d"
      },
      "execution_count": 3,
      "outputs": [
        {
          "output_type": "stream",
          "name": "stdout",
          "text": [
            "True\n",
            "False\n"
          ]
        }
      ]
    },
    {
      "cell_type": "markdown",
      "source": [
        "# **Solution Explanation:**\n",
        "\n",
        "\n",
        "**List Initialization:**\n",
        "\n",
        "Initialize a list lst to store numbers encountered during the process.\n",
        "Initial Number Addition:\n",
        "\n",
        "Add the initial number (n) to the list.\n",
        "\n",
        "**Main Loop:**\n",
        "\n",
        "Use a while loop to continue the process until the number equals 1 or a cycle is detected.\n",
        "\n",
        "**Inside the loop:**\n",
        "\n",
        "Initialize a variable sos to store the sum of squares.\n",
        "Iterate through the digits of the current number and calculate the sum of squares.\n",
        "Check if the sum of squares is not already in the list (lst).\n",
        "If not, add it to the list.\n",
        "If it is in the list, return False (cycle detected).\n",
        "Update the current number to the sum of squares.\n",
        "\n",
        "**Return Result:**\n",
        "\n",
        "If the process reaches 1, return True (happy number).\n",
        "If a cycle is detected, return False.\n",
        "Now, you can use this class and method to check if a number is happy:\n"
      ],
      "metadata": {
        "id": "hZZm7RZqBTn-"
      }
    },
    {
      "cell_type": "markdown",
      "source": [
        "Test Cases Satisfied.\n",
        "\n",
        "Now you can try it on your own with different methods and submit it in the leetcode : )\n",
        "\n",
        "Happy Coding!!"
      ],
      "metadata": {
        "id": "J0xJkAZdB7rU"
      }
    }
  ]
}
