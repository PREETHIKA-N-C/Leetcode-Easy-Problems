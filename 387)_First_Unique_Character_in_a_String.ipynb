{
  "nbformat": 4,
  "nbformat_minor": 0,
  "metadata": {
    "colab": {
      "provenance": []
    },
    "kernelspec": {
      "name": "python3",
      "display_name": "Python 3"
    },
    "language_info": {
      "name": "python"
    }
  },
  "cells": [
    {
      "cell_type": "markdown",
      "source": [
        "# **387. First Unique Character in a String**\n",
        "\n",
        "Given a string s, find the first non-repeating character in it and return its index. If it does not exist, return -1.\n",
        "\n",
        "\n",
        "\n",
        "Example 1:\n",
        "\n",
        "Input: s = \"leetcode\"\n",
        "\n",
        "Output: 0\n",
        "\n",
        "Example 2:\n",
        "\n",
        "Input: s = \"loveleetcode\"\n",
        "\n",
        "Output: 2\n",
        "\n",
        "Example 3:\n",
        "\n",
        "Input: s = \"aabb\"\n",
        "\n",
        "Output: -1\n",
        "\n",
        "\n",
        "Constraints:\n",
        "\n",
        "1 <= s.length <= 105\n",
        "\n",
        "s consists of only lowercase English letters."
      ],
      "metadata": {
        "id": "ZuPVwLKCToIi"
      }
    },
    {
      "cell_type": "code",
      "source": [
        "class Solution:\n",
        "    def firstUniqChar(self, s: str) -> int:\n",
        "        # Create a dictionary to map characters to their uniqueness status\n",
        "        dict_map = {}\n",
        "\n",
        "        # Iterate through the string to update the uniqueness status of each character\n",
        "        for ch in s:\n",
        "            # If the character is not in the dictionary, mark it as unique (True)\n",
        "            if ch not in dict_map:\n",
        "                dict_map[ch] = True\n",
        "            # If the character is already in the dictionary, mark it as not unique (False)\n",
        "            else:\n",
        "                dict_map[ch] = False\n",
        "\n",
        "        # Iterate through the string to find the index of the first unique character\n",
        "        for i, c in enumerate(s):\n",
        "            if dict_map[c]:\n",
        "                # If the character is marked as unique, return its index\n",
        "                return i\n",
        "\n",
        "        # If no unique character is found, return -1\n",
        "        return -1"
      ],
      "metadata": {
        "id": "0XCORU4uT2K5"
      },
      "execution_count": 1,
      "outputs": []
    },
    {
      "cell_type": "code",
      "source": [
        "# Example 1\n",
        "sol = Solution()\n",
        "result = sol.firstUniqChar(\"leetcode\")\n",
        "print(result)  # Output: 0\n",
        "\n",
        "# Example 2\n",
        "result = sol.firstUniqChar(\"loveleetcode\")\n",
        "print(result)  # Output: 2\n",
        "\n",
        "# Example 3\n",
        "result = sol.firstUniqChar(\"aabb\")\n",
        "print(result)  # Output: -1"
      ],
      "metadata": {
        "colab": {
          "base_uri": "https://localhost:8080/"
        },
        "id": "vyNrkLBfUjDm",
        "outputId": "880c6878-db24-43b9-fd99-431968bb4607"
      },
      "execution_count": 2,
      "outputs": [
        {
          "output_type": "stream",
          "name": "stdout",
          "text": [
            "0\n",
            "2\n",
            "-1\n"
          ]
        }
      ]
    },
    {
      "cell_type": "markdown",
      "source": [
        "# **Solution Explanation:**\n",
        "\n",
        "**Dictionary (dict_map):**\n",
        "\n",
        "The dictionary is used to store the uniqueness status of each character in the string.\n",
        "Key: Character\n",
        "Value: True if the character is unique, False if it's not.\n",
        "\n",
        "**First Loop: Marking Uniqueness Status:**\n",
        "\n",
        "The first loop iterates through each character in the string.\n",
        "If the character is not in the dictionary (ch not in dict_map), it is marked as unique (True).\n",
        "If the character is already in the dictionary, it is marked as not unique (False).\n",
        "\n",
        "**Second Loop: Finding the First Unique Character:**\n",
        "\n",
        "The second loop iterates through the string again.\n",
        "For each character (c), it checks if its uniqueness status is True in the dictionary (if dict_map[c]).\n",
        "If found, it returns the index of that character (i).\n",
        "\n",
        "**Return -1 if No Unique Character:**\n",
        "\n",
        "If no unique character is found in the second loop, the function returns -1."
      ],
      "metadata": {
        "id": "ZCqh9SV_UvbK"
      }
    },
    {
      "cell_type": "markdown",
      "source": [
        "Test Cases Satisfied.\n",
        "\n",
        "Now you can try it on your own with different methods and submit it in the leetcode : )\n",
        "\n",
        "Happy Coding!!"
      ],
      "metadata": {
        "id": "AUKF1INSVC3W"
      }
    }
  ]
}