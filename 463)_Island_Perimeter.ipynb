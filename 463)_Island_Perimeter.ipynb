{
  "nbformat": 4,
  "nbformat_minor": 0,
  "metadata": {
    "colab": {
      "provenance": []
    },
    "kernelspec": {
      "name": "python3",
      "display_name": "Python 3"
    },
    "language_info": {
      "name": "python"
    }
  },
  "cells": [
    {
      "cell_type": "markdown",
      "source": [
        "# **463. Island Perimeter**\n",
        "\n",
        "You are given row x col grid representing a map where grid[i][j] = 1 represents land and grid[i][j] = 0 represents water.\n",
        "\n",
        "Grid cells are connected horizontally/vertically (not diagonally). The grid is completely surrounded by water, and there is exactly one island (i.e., one or more connected land cells).\n",
        "\n",
        "The island doesn't have \"lakes\", meaning the water inside isn't connected to the water around the island. One cell is a square with side length 1. The grid is rectangular, width and height don't exceed 100. Determine the perimeter of the island.\n",
        "\n",
        "\n",
        "\n",
        "Example 1:\n",
        "\n",
        "![image.png](data:image/png;base64,iVBORw0KGgoAAAANSUhEUgAAAN0AAADVCAYAAADTl/V3AAATb0lEQVR4Ae2d65HkOBKD28v1ZT05U86Uc+F+ngNzoe3QDiRRJSbzo0j2YiMmSo8kiEQCperHzH59+T8rYAWsgBWwAlbAClgBK2AFrIAVsAIJBf71n//+WvlPonUvtQK8AiuHaQR3fgJG/LEKjDCo9yx/QvixJvunN2bDlw3/U3T5p/t7uv5/irHcR/83junMCxEqeQeCLsOUNvS1/ga2xnNrXE4LcNWDn3vwns+4+QDxKkN4qOOGau3n176cmsRVD33+oXtGY2eUiFd5qQc6dqDWf379y8lpvOqBzz9wz2iOGTVG7LrMA51joJ7D/HO4pqfxioc9/7A9ozlm1Bix4zIPc45heg7rzOGYoIYzD3udYXtWc8yqIWbHJa2D/Pr6+rXqn1//+/o1459V9VyNd6vn93XHBAXPdpCW19WE3vnOGDbltPP0a7839Ra/65pgzI7lChQ9XtkUavKZjlfWdCXuUa+X6o9JCpyVwGqvqci1a0bVbVy3cG2v//7zj6n/KNdRetXuu5oHdr61/X2qC8TsWPoJ9One3sD2+lQ7+r4+zWYPnXIdrdvT/it5gOZ6TFLl2ZOgT/fpJp72y9xXIzt03HcAV/IAzbUyZseyjIm3tXQTWT6f1jt0XNBU55U80IPrMVEVZypey3GPJlp41Kxx6By6Hn6tiNmxpMasn2p6NPFpv8w9h86h6+HXY6IezjIG3tf2aGLHpl8dOoeuh18fYna8TZi6RxMErxKGQ+fQ9fDrMVUPZyVjRq/1aCLKobbeoXPoevj1IWbH27Vm/VTXo4lP+2XuOXQOXQ+/HlP1cJYx8L62RxM7Nv3q0Dl0vfz6ELXv25ShezVB8VMch86h6+VXh+7m/xDk0Dl0Dt1NOPTpRB47dA6dQ+fQ3f5NB32DIN94emD1MvJKXP3x8ibMamT/wjP31HPo/vod5OfcUe8iKwnu0HFBU/+s5IFeXJ8T9/X1paJljns1keF0t9ahc+h6+fUxdHembLneq4kWLk9rHDqHrpdfHTp/Tffq3+LvZeSnN9GW+724OnQOnUN344FeodveAD4Gr+Ud4m5Nzybu9my97o+X/njZ068OXeGdzqFz6By6QjBan2I16xw6h86hc+j8Gykve8Che1lwP+n8pHPoHDo/6V72gEP3suB+0vlJ59A5dH7SvewBh+5lwf2k85POoXPo/KR72QNDQlfz86xITc8mIjxqav2k85Oup19vfyOlxpyRmp5NRHjU1Dp0Dl1Pvzp0hY8tDp1D59AVglHzxGqtcegcOofOofM3Ul72gEP3suB+0vlJ59A5dH7SvewBh+5lwf2k85POoXs5dJvgW/C219n/3Uvl2vqNo7fW9TQy3UNPrkN+ZLAbRZ8osxyr2Csez6LjmceKWu6cOwS6nLsOG/315NgaOQ9ktvNd7NVeZ9PxzGc1PXe+HbLwfui2Zs4DmeV8F3rV11l0PPNYVc+N99Kh2waxNbHC10m7Scz1D2xem6a7B2gj03j7/LfXDtjvPOn0nc9GZo28G2R2XdUDtJFpvF1Th+5PzqyfDKqCf6qb4d5KXB267x/FlB9z4P84ZH8HUsFnMOsnDisZeSWu6oHdF7O+qq40R4eu8PRUwT+Fc4Z7K3F16F78J9W3dwoVfAazfuKwkpFX4qoeoJ8eNJ7qSmLfPuW2G+RGG5YK/snwM9xTwWfg84nDSlzVA7S/aDzVlcR26AofLTeDq+CfDD/DvZW4OnT+eHn786eVjLwSV4fOoXPobp70vZ7gDp1D59A5dLe/baKfIPw13QtGUcF7vetTuCtx9ZPu4UlHfwdTBacM1wtnJSOvxFU9QD49emCpriT+x+9eOnT+5Wz6Tc2h85POX9O98FFdg+vQOXQOnUM31zdS/PHSHy/1KUUc+0nnJ52fdH7S+UlHvJsSGPqdKwKvJ8ZKXP/pT7rH71z646U/XtJvFg5dRezIn0+o4PQwabyVnh4rcVUPkN7qgaW6UvgVkWP/eo8KToeExlPBaWwabyWu6gHKyL1wVFdqD4fuwzcRVHA6JDTeSlwduorYUQnfcFRw2ng03kpGXomreoD0Vg8s1ZXCr4icP15uwtOBpvHUHDQ2jefQVcSOSviGo4LTw6TxVjLySlzVA6S3emCprhR+ReT8pNuEpwNN46k5aGwaz6GriB2V8A1HBaeHSeOtZOSVuKoHSG/1wFJdKfyKyPlJtwlPB5rGU3PQ2DSeQ1cROyrhG44KTg+TxlvJyCtxVQ+Q3uqBpboS+BVx+y4hNtsxVHA6JDSeCk5j03grcVUP7L6Y9VV1JThWh24rJDbcMFRw2ng0ngpOY9N4K3FVD1C+6oWjuhJ7OHQffhtlC4UKToeExluJq0NXGT0i5RuGCk4bj8ZbycgrcVUPUL7qhaO6EntUxu27jNhww1DB6ZDQeCo4jU3jrcRVPUD5qheO6krs4dD54+WQH4U4dJXRI1K+Yajg9Ls9jafvcjQ2jbcSV/UA5ateOKorsUdl3PzxchOeDgmNp+agsWk8h64yekTKNwwVnB4mjbeSkVfiqh6gfNULR3XN7lEZtd9l2Q339VsTm+jbKx0SGk8Fp7FpvNW47h7YfTHrq+qa5fg7TZVH2Q339drEdqzvejMdn3mueD6TnsplRS03zruHW18ro/a7rHWj8zoVXAcx47FyXe14Rj2V02p6bnzPXo6e/05T5VF0g7v6s9g6iJmOzzxXPJ9JT+WyopYb5ztP116vjNrvslrgpzoV/Kl29P2N62aW7ZX+GozGU66jdXvafzUP7Hyf+nq6/ztNlUdPgLX39wa219o1o+r03ZkOCY2nXEfpVbvvSh4guVZG7VhWK+qnOrKJT/sQ99TIdEhoPOVK9N4TYyUPkFyPaao8IwZBNkHw+YShRqZDQuMp1089zXBvJQ+QXCtjdiwjBkY2QfD5hKFGpkNC4ynXTz3NcG8lD1Bcj0kKnBEDo5oguDxhqJHpkNB4yvWpr9H3V/IAxTUQs2MpMSyqCYLLE4YamQ4Jjadcn/oafX8lD1Bcj0kKnBHDopoguDxhqJHpkNB4yvWpr9H3V/IAxTUQs2MpMSyqCYLLE4YamQ4Jjadcn/oafX8lD1Bcj0kKnBHDopoguDxhqJHpkNB4yvWpr9H3V/IAxTUQs2MpMSyqCYLLE4YamQ4Jjadcn/oafX8lD1Bcj0kKnBHDopoguDxhqJHpkNB4yvWpr9H3V/IAxTUQs2MpMSyqCYLLE4YamQ4Jjadcn/oafX8lDxBcjykKnhHDIpogeNRgqJHpkNB4yrWmt5E1K3mA4BqM2bGcGBTRBMGjBkONTIeExlOuNb2NrFnJAwTXY4oazrLDIprIcqhdr0amQ0LjKdfa/kbVreQBgmtDzI5LsoMimshyqF2vRqZDQuMp19r+RtWt5AGC6zFBDWfZQRFNZDnUrlcj0yGh8ZRrbX+j6lbyAMG1IWbHJdlBEU1kOdSuVyPTIaHxlGttf6PqVvIAwfWYoIaz7KCIJrIcaterkemQ0HjKtba/UXUreYDg2hCz45LsoIgmshxq16uR6ZDQeMq1tr9RdSt5gOB6TFDDWXZQRBNZDrXr1ch0SGg85Vrb36i6lTyQ5doQseuS7KCyTWT3j6xXI9MhofGUa6THEbUreSDL9ZqghivZIWWbyO4fWa9GpkNC4ynXSI8jalfyQJZrQ8SuS7JDyjaR3T+yXo1Mh4TGU66RHkfUruSBLNdrghquZIeUbSK7f2S9GpkOCY2nXCM9jqhdyQNZrg0Ruy7JDinbRHb/yHo1Mh0SGk+5RnocUbuSB7JcrwlquJIdUraJ7P6R9WpkOiQ0nnKN9DiidiUPZLk2ROy6JDukbBPZ/SPr1ch0SGg85RrpcUTtSh7Icr0mqPFKZlDZJjJ7R9eqkemQ0HjKNdrn2/UreSDLtTFi12WZIWWbyOwdXatGpkNC4ynXaJ9v16/kgQzXa3ISVzJDyjSR2bdlrRqZDgmNp1xben1zzUoeyHBNROy6NDOgTBOZfVvWqpHpkNB4yrWl1zfXrOSBDNdrchJXMgPKNJHZt2WtGpkOCY2nXFt6fXPNSh7IcE1E7Lo0M6BME5l9W9aqkemQ0HjKtaXXN9es5IEM12tyElcyA8o0kdm3Za0amQ4JjadcW3p9c81KHshwTUTsujQzoEwTmX1b1qqR6ZDQeMq1pdc316zkgQzXa3ISVzIDyjSR2bdlrRqZDgmNp1xben1zzUoeyHBNROy6NDOgTBOZfVvWqpHpkNB4yrWl1zfXrOSBDNdrchJXMgPKNJHZt2XtxnUz8/ZKh4TGU64tvb65ZjUP7HwjGiXiVV4a2fxcuzewv+o79EzHOz+/fr/pWIevX2cvfzovJydx9dNmT/d0eDOFrMRFufrY4Xvytt5PxKu8VMGjx2fzlsw+w7UzT587dBGvl5OTuBrZ/Fy7mXcL1fZKf11D42nQaGwaT3U9az7bueo6G7czn1auiXiVl56JRc71KUYbj8ZTwWlsGk91jcxjRK3qOmL/yJ6tXMvJSVyNkD7Xqjlo49F4KjiNTeOprmfNZztXXWfjdubTyjURr/LSM7HIuZqDNh6Np4LT2DSe6hqZx4ha1XXE/pE9W7mWk5O8GiGutWoO2ng0ngpOY9N4qqvqPeOx6jojP+XUyjUZr/JyJRY5VnPQxqPxVHAam8ZTXSPzGFGruo7YP7JnK9dyapJXI8S1Vs1BG4/GU8FpbBpPdVW9ZzxWXWfkp5xauSbjVV6uxCLHag7aeDSeCk5j03iqa2QeI2pV1xH7R/Zs5VpOTfJqhLjWqjlo49F4KjiNTeOprqr3jMeq64z8lFML12S07pcrscixmoM2Ho2ngtPYNJ7qGpnHiFrVdcT+kT1buN6nJnknQlxr1Ry08Wg8FZzGpvFUV9V7xmPVdUZ+yqmFazJa98uVWORYzUEbj8ZTwWlsGk91jcxjRK3qOmL/yJ4tXO9Tk7wTIa61ag7aeDSeCk5j03iqq+o947HqOiM/5dTCNRmt++VKLHKs5qCNR+Op4DQ2jae6RuYxolZ1HbF/ZM8WrvepSd6JENdaNQdtPBpPBaexaTzVVfWe8Vh1nZGfcmrhmozW/XIlFjlWc9DGo/FUcBqbxlNdI/MYUau6jtg/smcL1/vUJO9EiGutmoM2Ho2ngtPYNJ7qqnrPeKy6zshPObVwTUbrfrkSixyrOWjj0XgqOI1N46mukXmMqFVdR+wf2bOF631qkncixLVWzUEbj8ZTwWlsGk91Vb1nPFZdZ+SnnFq4JqN1v1yJRY7VHLTxaDwVnMam8VTXyDxG1KquI/aP7NnC9T41yTsR4lqr5qCNR+Op4DQ2jae6qt4zHquuM/JTTi1ck9G6X67EIsdqDtp4NJ4KTmPTeKprZB4jalXXEftH9mzhep+a5J0Ica1Vc9DGo/FUcBqbxlNdVe8Zj1XXGfkppxauyWjdL1dikWM1B208Gk8Fp7FpPNU1Mo8RtarriP0je7ZwvU9N8k6EuNaqOWjj0XgqOI1N46muqveMx6rrjPyUUwvXZLTulyuxyLGagzYejaeC09g0nuoamceIWtV1xP6RPVu43qcmeSdCXGvVHLTxaDwVnMam8VRX1XvGY9V1Rn7KqYVrMlr3y5VY5FjNQRuPxlPBaWwaT3WNzGNEreo6Yv/Ini1c71OTuBMhfa5Vc9DGo/FUcBqbxlNdz5rPdq66zsbtzKeFayJa90vPxCLnag7aeDSeCk5j03iqa2QeI2pV1xH7R/Zs4XqfnMSdCOlzrZqDNh6Np4LT2DSe6nrWfLZz1XU2bmc+LVwT0bpfeiYWOVdz0Maj8VRwGpvGU10j8xhRq7qO2D+yZwvX++Qk7kRIn2vVHLTxaDwVnMam8VTXs+aznauus3E782nhmojW/dIzsci5moM2Ho2ngtPYNJ7qGpnHiFrVdcT+kT1buN4nJ3EnQvpcq+agjUfjqeA0No2nup41n+1cdZ2N25lPC9dEtO6XnolFztUctPFoPBWcxqbxVNfIPEbUqq4j9o/s2cL1PjmJOxHS51o1B208Gk8Fp7FpPNX1rPls56rrbNzOfFq4JqJ1v/RMLHKu5qCNR+Op4DQ2jae6RuYxolZ1HbF/ZM8WrvfJSdyJkD7Xqjlo49F4KjiNTeOprmfNZztXXWfjdubTwjURrfulZ2KR862JzSDbK208Gk8Fp7FpPNU1Mo8RtarriP0je7ZwvU9O4k6E9LlWm9iNou/Ssxyfea7GtcTf177f7Ft1OHv57jwRrfLSu41qr2vDswTsjseqXJW3j3NBU/0CHi+Hp/Vq7cZ3ddrEdnxn+NHXzzxX41ri72u5AN55unS9NV/FdaUNfO2/v6yBNVAPFMPTelGBfWyj2QNlD7Tmq7jOIpdFti7WRT1QDE/rRQX2sY1mD5Q90JqvyzoLXBbYuliXswcu4Wm9cAb2uc1mD5Q90JqxyzoLXBbYuliXkgcuAWq5UAL2NRvOHih7oCVjlzUWtyyudbEuJQ9cAhS9UAL1NZvNHrj3QDRjl/qsuBdAX/hbgay2Xn9v/JHa/D1gH6yvwEgjee9YwNd3mzt4VMChiIWit16PA3PBz1Sgt7GM/x30n+ked4Up4KDcPxExkQ1kBWoUWD2MNT26xgpYAStgBayAFbACVsAK/HAF/g9Hs/TjXhWoNAAAAABJRU5ErkJggg==)\n",
        "\n",
        "Input: grid = [[0,1,0,0],[1,1,1,0],[0,1,0,0],[1,1,0,0]]\n",
        "\n",
        "Output: 16\n",
        "\n",
        "Explanation: The perimeter is the 16 yellow stripes in the image above.\n",
        "\n",
        "Example 2:\n",
        "\n",
        "Input: grid = [[1]]\n",
        "\n",
        "Output: 4\n",
        "\n",
        "Example 3:\n",
        "\n",
        "Input: grid = [[1,0]]\n",
        "\n",
        "Output: 4\n",
        "\n",
        "\n",
        "Constraints:\n",
        "\n",
        "row == grid.length\n",
        "\n",
        "col == grid[i].length\n",
        "\n",
        "1 <= row, col <= 100\n",
        "\n",
        "grid[i][j] is 0 or 1.\n",
        "\n",
        "There is exactly one island in grid."
      ],
      "metadata": {
        "id": "v6cbaadjzhTk"
      }
    },
    {
      "cell_type": "code",
      "source": [
        "from typing import List\n",
        "class Solution:\n",
        "    def islandPerimeter(self, grid: List[List[int]]) -> int:\n",
        "        visit_set = set()\n",
        "\n",
        "        def dfs(i, j):\n",
        "            # Check if the current cell is outside the grid boundaries or is water\n",
        "            if i >= len(grid) or j >= len(grid[0]) or i < 0 or j < 0 or grid[i][j] == 0:\n",
        "                return 1  # If outside grid or water, contribute to perimeter\n",
        "\n",
        "            if (i, j) in visit_set:\n",
        "                return 0  # If cell has already been visited, do not contribute to perimeter\n",
        "\n",
        "            visit_set.add((i, j))  # Mark the cell as visited\n",
        "            perimtr = dfs(i , j + 1)  # Explore right neighbor\n",
        "            perimtr += dfs(i + 1, j)  # Explore bottom neighbor\n",
        "            perimtr += dfs(i, j - 1)  # Explore left neighbor\n",
        "            perimtr += dfs(i - 1, j)  # Explore top neighbor\n",
        "            return perimtr  # Return the total perimeter\n",
        "\n",
        "        for i in range(len(grid)):\n",
        "            for j in range(len(grid[0])):\n",
        "                if grid[i][j]:\n",
        "                    return dfs(i, j)  # Start DFS from the first land cell\n",
        "\n",
        "# Example Usage\n",
        "grid_example = [\n",
        "    [0, 1, 0, 0],\n",
        "    [1, 1, 1, 0],\n",
        "    [0, 1, 0, 0],\n",
        "    [1, 1, 0, 0]\n",
        "]\n",
        "\n",
        "sol = Solution()\n",
        "result = sol.islandPerimeter(grid_example)\n",
        "print(result)"
      ],
      "metadata": {
        "colab": {
          "base_uri": "https://localhost:8080/"
        },
        "id": "OYFAm6JJ0KgA",
        "outputId": "abe1a966-f65c-449b-da90-75d7159b263c"
      },
      "execution_count": 2,
      "outputs": [
        {
          "output_type": "stream",
          "name": "stdout",
          "text": [
            "16\n"
          ]
        }
      ]
    },
    {
      "cell_type": "markdown",
      "source": [
        "# **Solution Explanation:**\n",
        "\n",
        "**DFS Function:**\n",
        "\n",
        "The dfs function is a recursive depth-first search that explores the island and calculates its perimeter.\n",
        "It returns 1 if the current cell is outside the grid or is water, contributing to the perimeter.\n",
        "If the cell has already been visited, it returns 0 to avoid double counting.\n",
        "\n",
        "**DFS Exploration:**\n",
        "\n",
        "The function explores the neighboring cells (right, bottom, left, top) and recursively calls itself for each valid neighbor.\n",
        "\n",
        "**Visit Set:**\n",
        "\n",
        "visit_set is used to keep track of visited cells to avoid infinite loops in the DFS.\n",
        "\n",
        "**Main Loop:**\n",
        "\n",
        "The main loop iterates through each cell in the grid.\n",
        "When it finds the first land cell (if grid[i][j]:), it starts DFS from that cell."
      ],
      "metadata": {
        "id": "CQIeow981bOk"
      }
    },
    {
      "cell_type": "markdown",
      "source": [
        "Test Cases Satisfied.\n",
        "\n",
        "Now you can try it on your own with different methods and submit it in the leetcode : )\n",
        "\n",
        "Happy Coding!!"
      ],
      "metadata": {
        "id": "0tOTAY9q11HV"
      }
    }
  ]
}