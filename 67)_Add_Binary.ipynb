{
  "nbformat": 4,
  "nbformat_minor": 0,
  "metadata": {
    "colab": {
      "provenance": []
    },
    "kernelspec": {
      "name": "python3",
      "display_name": "Python 3"
    },
    "language_info": {
      "name": "python"
    }
  },
  "cells": [
    {
      "cell_type": "markdown",
      "source": [
        "## **67. Add Binary**\n",
        "\n",
        "\n",
        "Given two binary strings a and b, return their sum as a binary string.\n",
        "\n",
        "Example 1:\n",
        "\n",
        "Input: a = \"11\", b = \"1\"\n",
        "Output: \"100\"\n",
        "\n",
        "Example 2:\n",
        "\n",
        "Input: a = \"1010\", b = \"1011\"\n",
        "Output: \"10101\"\n",
        "\n",
        "Constraints:\n",
        "\n",
        "1 <= a.length, b.length <= 104\n",
        "a and b consist only of '0' or '1' characters.\n",
        "Each string does not contain leading zeros except for the zero itself."
      ],
      "metadata": {
        "id": "nukdR0obHZME"
      }
    },
    {
      "cell_type": "markdown",
      "source": [
        "# **Problem Explanation:**\n",
        "\n",
        "Let's take the example one.\n",
        "\n",
        "a = \"11\" b = \"1\"\n",
        "\n",
        "We usually start addition from the last number,\n",
        "\n",
        "1 + 1 + 0 = 2. Here 1 from a, 1 from b and 0 from carry. Similar to how we do addition manually.\n",
        "\n",
        "\n"
      ],
      "metadata": {
        "id": "WE0bL_OwILFJ"
      }
    },
    {
      "cell_type": "code",
      "source": [
        "class Solution:\n",
        "    def addBinary(self, a: str, b: str) -> str:\n",
        "        #To store the result\n",
        "        out = []\n",
        "        #To store the carry\n",
        "        carry = 0\n",
        "        #Reverse the input index of the binary string\n",
        "        i , j = len(a)-1, len(b)-1\n",
        "        #loop will continue until a or b or carry have atleast one digit to sum\n",
        "        while i >= 0 or j >= 0 or carry:\n",
        "            #To handle the IndexError: index out of range.\n",
        "            DigA = int(a[i]) if i >= 0 else 0\n",
        "            DigB = int(b[j]) if j >= 0 else 0\n",
        "\n",
        "            Sum = DigA + DigB + carry\n",
        "            #To find carry from the quotient\n",
        "            carry = Sum // 2\n",
        "            #Result from the remainder since it's a binary num\n",
        "            Mod = Sum % 2\n",
        "            #To convert integer to string and append it to the out var\n",
        "            out.append(str(Mod))\n",
        "\n",
        "            i -= 1\n",
        "            j -= 1\n",
        "        return \"\".join(out[::-1]) #Reverse the output"
      ],
      "metadata": {
        "id": "us73XUs8Hk3K"
      },
      "execution_count": 8,
      "outputs": []
    },
    {
      "cell_type": "code",
      "source": [
        "solution_instance = Solution()\n",
        "\n",
        "# Call the addBinary method on the instance\n",
        "AddBinary = solution_instance.addBinary(input('Enter the value of a: '), input('Enter the value of b: '))\n",
        "print(\"Output Binary String:\",AddBinary)"
      ],
      "metadata": {
        "colab": {
          "base_uri": "https://localhost:8080/"
        },
        "id": "ya48SpUnLw_G",
        "outputId": "97344685-7a3c-4b93-86c7-9c6d1ad10b43"
      },
      "execution_count": 13,
      "outputs": [
        {
          "output_type": "stream",
          "name": "stdout",
          "text": [
            "Enter the value of a: 1010\n",
            "Enter the value of b: 1011\n",
            "Output Binary String: 10101\n"
          ]
        }
      ]
    },
    {
      "cell_type": "markdown",
      "source": [
        "Test Cases Satisfied.\n",
        "\n",
        "Now you can try it on your own with different methods and submit it in the leetcode : )\n",
        "\n",
        "\n",
        "Happy Coding!!"
      ],
      "metadata": {
        "id": "y6Uz4cXYMpQ1"
      }
    }
  ]
}