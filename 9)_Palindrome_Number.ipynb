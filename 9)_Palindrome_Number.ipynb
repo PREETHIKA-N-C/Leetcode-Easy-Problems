{
  "nbformat": 4,
  "nbformat_minor": 0,
  "metadata": {
    "colab": {
      "provenance": []
    },
    "kernelspec": {
      "name": "python3",
      "display_name": "Python 3"
    },
    "language_info": {
      "name": "python"
    }
  },
  "cells": [
    {
      "cell_type": "markdown",
      "source": [
        "# **9. Palindrome Number**\n",
        "\n",
        "\n",
        "Given an integer x, return true if x is a\n",
        "palindrome\n",
        ", and false otherwise.\n",
        "\n",
        "\n",
        "\n",
        "Example 1:\n",
        "\n",
        "Input: x = 121\n",
        "Output: true\n",
        "Explanation: 121 reads as 121 from left to right and from right to left.\n",
        "\n",
        "Example 2:\n",
        "\n",
        "Input: x = -121\n",
        "Output: false\n",
        "Explanation: From left to right, it reads -121. From right to left, it becomes 121-. Therefore it is not a palindrome.\n",
        "\n",
        "Example 3:\n",
        "\n",
        "Input: x = 10\n",
        "Output: false\n",
        "Explanation: Reads 01 from right to left. Therefore it is not a palindrome.\n",
        "\n",
        "\n",
        "Constraints:\n",
        "\n",
        "-231 <= x <= 231 - 1\n"
      ],
      "metadata": {
        "id": "YEnApZ2-_Pg7"
      }
    },
    {
      "cell_type": "code",
      "source": [
        "class Solution:\n",
        "    def isPalindrome(self, x: int) -> bool:\n",
        "        # Convert the integer to a string\n",
        "        s = str(x)\n",
        "\n",
        "        # Initialize two pointers: lp (left pointer) and rp (right pointer)\n",
        "        lp = 0\n",
        "        rp = len(s) - 1\n",
        "\n",
        "        # Use a while loop to check if the string is a palindrome\n",
        "        while lp <= rp:\n",
        "            # Compare characters at lp and rp\n",
        "            if s[lp] == s[rp]:\n",
        "                # If they are equal, move the pointers towards each other\n",
        "                lp += 1\n",
        "                rp -= 1\n",
        "            else:\n",
        "                # If not equal, return False (not a palindrome)\n",
        "                return False\n",
        "\n",
        "        # If the loop completes, return True (palindrome)\n",
        "        return True"
      ],
      "metadata": {
        "id": "r4Qb6g1J_lFR"
      },
      "execution_count": 1,
      "outputs": []
    },
    {
      "cell_type": "code",
      "source": [
        "# Example usage\n",
        "solution_instance = Solution()\n",
        "\n",
        "# Example 1\n",
        "result1 = solution_instance.isPalindrome(121)\n",
        "print(result1)  # Output: True\n",
        "\n",
        "# Example 2\n",
        "result2 = solution_instance.isPalindrome(-121)\n",
        "print(result2)  # Output: False\n",
        "\n",
        "# Example 3\n",
        "result3 = solution_instance.isPalindrome(10)\n",
        "print(result3)  # Output: False"
      ],
      "metadata": {
        "colab": {
          "base_uri": "https://localhost:8080/"
        },
        "id": "39Ur6exUAO47",
        "outputId": "51102b34-ae86-4caf-d708-931ac830f795"
      },
      "execution_count": 2,
      "outputs": [
        {
          "output_type": "stream",
          "name": "stdout",
          "text": [
            "True\n",
            "False\n",
            "False\n"
          ]
        }
      ]
    },
    {
      "cell_type": "markdown",
      "source": [
        "# **Solution Explanation:**\n",
        "\n",
        "**Integer to String Conversion:**\n",
        "\n",
        "Convert the input integer x to a string s. This allows for easy comparison of characters.\n",
        "\n",
        "**Pointer Initialization:**\n",
        "\n",
        "Initialize two pointers, lp (left pointer) and rp (right pointer), to the beginning and end of the string, respectively.\n",
        "\n",
        "**Palindrome Check Loop:**\n",
        "\n",
        "Use a while loop to iterate through the string.\n",
        "\n",
        "**Inside the loop:**\n",
        "\n",
        "Compare the characters at the left and right pointers (s[lp] and s[rp]).\n",
        "\n",
        "If they are equal, move the pointers towards each other (lp += 1 and rp -= 1).\n",
        "\n",
        "If they are not equal, return False (not a palindrome).\n",
        "Return Result:\n",
        "\n",
        "If the loop completes without returning False, it means the string is a palindrome, so return True."
      ],
      "metadata": {
        "id": "2mQiq6JDAZ2c"
      }
    },
    {
      "cell_type": "markdown",
      "source": [
        "Test Cases Satisfied.\n",
        "\n",
        "Now you can try it on your own with different methods and submit it in the leetcode : )\n",
        "\n",
        "Happy Coding!!"
      ],
      "metadata": {
        "id": "S8vtBfJkBnGS"
      }
    }
  ]
}